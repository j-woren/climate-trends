{
 "cells": [
  {
   "cell_type": "code",
   "execution_count": 55,
   "metadata": {},
   "outputs": [],
   "source": [
    "import pandas as pd\n",
    "import networkx as nx\n",
    "import numpy as np\n",
    "from collections import Counter\n",
    "from datetime import datetime, timedelta\n",
    "import ast"
   ]
  },
  {
   "cell_type": "code",
   "execution_count": 37,
   "metadata": {},
   "outputs": [],
   "source": [
    "def load_data(file_path):\n",
    "    return pd.read_csv(\"\\\\Users\\\\joshu\\\\Downloads\\\\UROP_Code\\\\Data\\\\climate_articles_unique_english.csv\", low_memory=False)"
   ]
  },
  {
   "cell_type": "code",
   "execution_count": 68,
   "metadata": {},
   "outputs": [],
   "source": [
    "def build_temporal_graph(data):\n",
    "    G = nx.DiGraph()\n",
    "    for _, row in data.iterrows():\n",
    "        citing_doi = row['URL']\n",
    "        references = row['reference'].split(';') if pd.notna(row['reference']) else []     \n",
    "        year = int(row['earliest_pub_year']) \n",
    "  \n",
    "        if pd.notna(year):\n",
    "            G.add_node(citing_doi, time=datetime(year,1,1))\n",
    "        \n",
    "        for ref in references:\n",
    "            G.add_edge(citing_doi, ref)\n",
    "\n",
    "    return G"
   ]
  },
  {
   "cell_type": "code",
   "execution_count": 58,
   "metadata": {},
   "outputs": [],
   "source": [
    "def validate_temporal_graph(graph):\n",
    "    invalid_nodes = []\n",
    "\n",
    "    for node, data in graph.nodes(data=True):\n",
    "        if 'time' not in data or not isinstance(data['time'], datetime):\n",
    "            invalid_nodes.append(node)\n",
    "\n",
    "    if invalid_nodes:\n",
    "        print(f\"Invalid nodes detected: {len(invalid_nodes)}\")\n",
    "        for node in invalid_nodes[:5]:  # Print a sample\n",
    "            print(f\"Node {node} is missing a valid time attribute.\")\n",
    "        return False\n",
    "\n",
    "    print(\"All nodes have valid time attributes.\")\n",
    "    return True"
   ]
  },
  {
   "cell_type": "code",
   "execution_count": 59,
   "metadata": {},
   "outputs": [],
   "source": [
    "def calculate_cd_index(graph):\n",
    "    cd_index_per_node = {}\n",
    "    delta = timedelta(days=365 * 25)\n",
    "\n",
    "    for node in graph.nodes:\n",
    "            try:\n",
    "                    cd_index = nx.cd_index(graph, node, time_delta=delta, time=\"earliest_pub_year\")\n",
    "                    cd_index_per_node[node] = cd_index\n",
    "            except Exception as e:\n",
    "                cd_index_per_node[node] = None\n",
    "\n",
    "    return cd_index_per_node "
   ]
  },
  {
   "cell_type": "code",
   "execution_count": 65,
   "metadata": {},
   "outputs": [],
   "source": [
    "def remove_invalid_nodes(graph):\n",
    "    invalid_nodes = [node for node, attrs in graph.nodes(data=True) if 'time' not in attrs or attrs['time'] is None]\n",
    "    graph.remove_nodes_from(invalid_nodes)\n",
    "    print(f\"Removed {len(invalid_nodes)} invalid nodes.\")\n",
    "    return graph"
   ]
  },
  {
   "cell_type": "code",
   "execution_count": 69,
   "metadata": {},
   "outputs": [],
   "source": [
    "def main(file_path):\n",
    "    data = load_data(file_path)\n",
    "\n",
    "    graph = build_temporal_graph(data)\n",
    "\n",
    "    cd_indices = calculate_cd_index(graph)\n",
    "\n",
    "    cd_index_df = pd.DataFrame(list(cd_indices.items()), columns=['DOI', 'CD_Index'])\n",
    "\n",
    "    graph = remove_invalid_nodes(graph)\n",
    "\n",
    "    \n",
    "    return cd_index_df"
   ]
  },
  {
   "cell_type": "code",
   "execution_count": 7,
   "metadata": {},
   "outputs": [
    {
     "name": "stderr",
     "output_type": "stream",
     "text": [
      "C:\\Users\\joshu\\AppData\\Local\\Temp\\ipykernel_35512\\3021614579.py:2: DtypeWarning: Columns (13) have mixed types. Specify dtype option on import or set low_memory=False.\n",
      "  data = pd.read_csv(file_path)\n"
     ]
    },
    {
     "name": "stdout",
     "output_type": "stream",
     "text": [
      "Columns in the dataset: Index(['created', 'license', 'publisher', 'published-online', 'author', 'page',\n",
      "       'indexed', 'special_numbering', 'assertion', 'editor', 'relation',\n",
      "       'score', 'issued', 'volume', 'source', 'update-policy', 'updated-by',\n",
      "       'deposited', 'archive', 'is-referenced-by-count', 'alternative-id',\n",
      "       'prefix', 'DOI', 'language', 'abstract', 'resource', 'member', 'issue',\n",
      "       'link', 'ISSN', 'content-domain', 'published-print', 'type',\n",
      "       'short-container-title', 'journal-issue', 'references-count',\n",
      "       'subtitle', 'published-other', 'original-title', 'reference-count',\n",
      "       'published', 'title', 'container-title', 'reference', 'funder',\n",
      "       'issn-type', 'article-number', 'URL', 'cleaned_abstract',\n",
      "       'earliest_pub_year'],\n",
      "      dtype='object')\n",
      "                                                  created  \\\n",
      "27710   {'date-parts': [[2006, 3, 3]], 'date-time': '2...   \n",
      "317879  {'date-parts': [[2022, 12, 6]], 'date-time': '...   \n",
      "182709  {'date-parts': [[2017, 12, 19]], 'date-time': ...   \n",
      "4794    {'date-parts': [[2008, 11, 7]], 'date-time': '...   \n",
      "180548  {'date-parts': [[2017, 5, 15]], 'date-time': '...   \n",
      "\n",
      "                                                  license  \\\n",
      "27710   [{'start': {'date-parts': [[2006, 3, 1]], 'dat...   \n",
      "317879  [{'start': {'date-parts': [[2023, 3, 1]], 'dat...   \n",
      "182709  [{'start': {'date-parts': [[2018, 1, 1]], 'dat...   \n",
      "4794                                                  NaN   \n",
      "180548  [{'start': {'date-parts': [[2017, 7, 1]], 'dat...   \n",
      "\n",
      "                                      publisher  \\\n",
      "27710                               Elsevier BV   \n",
      "317879                              Elsevier BV   \n",
      "182709  Springer Science and Business Media LLC   \n",
      "4794                         Informa UK Limited   \n",
      "180548                              Elsevier BV   \n",
      "\n",
      "                        published-online  \\\n",
      "27710                                NaN   \n",
      "317879                               NaN   \n",
      "182709    {'date-parts': [[2018, 1, 2]]}   \n",
      "4794    {'date-parts': [[2016, 12, 14]]}   \n",
      "180548                               NaN   \n",
      "\n",
      "                                                   author         page  \\\n",
      "27710                                                 NaN          CO2   \n",
      "317879  [{'given': 'Xu', 'family': 'Chen', 'sequence':...       122837   \n",
      "182709  [{'given': 'Richard J.', 'family': 'Millar', '...          2-4   \n",
      "4794    [{'given': 'Donald W.', 'family': 'McMurray', ...        73-83   \n",
      "180548  [{'given': 'Yue', 'family': 'Liu', 'sequence':...  18165-18173   \n",
      "\n",
      "                                                  indexed special_numbering  \\\n",
      "27710   {'date-parts': [[2022, 4, 2]], 'date-time': '2...               NaN   \n",
      "317879  {'date-parts': [[2024, 11, 19]], 'date-time': ...                 C   \n",
      "182709  {'date-parts': [[2024, 8, 30]], 'date-time': '...               NaN   \n",
      "4794    {'date-parts': [[2024, 3, 1]], 'date-time': '2...               NaN   \n",
      "180548  {'date-parts': [[2023, 9, 23]], 'date-time': '...               NaN   \n",
      "\n",
      "                                                assertion editor  ...  \\\n",
      "27710                                                 NaN    NaN  ...   \n",
      "317879  [{'value': 'Elsevier', 'name': 'publisher', 'l...    NaN  ...   \n",
      "182709                                                NaN    NaN  ...   \n",
      "4794                                                  NaN    NaN  ...   \n",
      "180548  [{'value': 'Elsevier', 'name': 'publisher', 'l...    NaN  ...   \n",
      "\n",
      "                          published  \\\n",
      "27710   {'date-parts': [[2006, 3]]}   \n",
      "317879  {'date-parts': [[2023, 3]]}   \n",
      "182709  {'date-parts': [[2018, 1]]}   \n",
      "4794    {'date-parts': [[2001, 1]]}   \n",
      "180548  {'date-parts': [[2017, 7]]}   \n",
      "\n",
      "                                                    title  \\\n",
      "27710                                             ['IFC']   \n",
      "317879  ['Novel exchanger type vacuum temperature swin...   \n",
      "182709  ['Principles to guide investment towards a sta...   \n",
      "4794    ['The importance of “goodness of fit” between ...   \n",
      "180548  ['Effect of CaCO3 addition on the electrochemi...   \n",
      "\n",
      "                                     container-title  \\\n",
      "27710            ['Biochemical Engineering Journal']   \n",
      "317879    ['Separation and Purification Technology']   \n",
      "182709                     ['Nature Climate Change']   \n",
      "4794                                       ['ALT-J']   \n",
      "180548  ['International Journal of Hydrogen Energy']   \n",
      "\n",
      "                                                reference  \\\n",
      "27710                                                 NaN   \n",
      "317879  [{'key': '10.1016/j.seppur.2022.122837_b0005',...   \n",
      "182709  [{'key': '42_CR1', 'doi-asserted-by': 'crossre...   \n",
      "4794    [{'key': 'CIT0001', 'unstructured': 'ArgyrisC....   \n",
      "180548  [{'key': '10.1016/j.ijhydene.2017.04.160_bib1'...   \n",
      "\n",
      "                                                   funder  \\\n",
      "27710                                                 NaN   \n",
      "317879  [{'DOI': '10.13039/501100001809', 'name': 'Nat...   \n",
      "182709                                                NaN   \n",
      "4794                                                  NaN   \n",
      "180548  [{'DOI': '10.13039/501100001809', 'name': 'Nat...   \n",
      "\n",
      "                                                issn-type article-number  \\\n",
      "27710           [{'value': '1369-703X', 'type': 'print'}]            NaN   \n",
      "317879          [{'value': '1383-5866', 'type': 'print'}]         122837   \n",
      "182709  [{'value': '1758-678X', 'type': 'print'}, {'va...            NaN   \n",
      "4794    [{'value': '0968-7769', 'type': 'print'}, {'va...            NaN   \n",
      "180548          [{'value': '0360-3199', 'type': 'print'}]            NaN   \n",
      "\n",
      "                                                   URL cleaned_abstract  \\\n",
      "27710    https://doi.org/10.1016/s1369-703x(06)00039-8              NaN   \n",
      "317879    https://doi.org/10.1016/j.seppur.2022.122837              NaN   \n",
      "182709       https://doi.org/10.1038/s41558-017-0042-4              NaN   \n",
      "4794         https://doi.org/10.1080/09687760108656777              NaN   \n",
      "180548  https://doi.org/10.1016/j.ijhydene.2017.04.160              NaN   \n",
      "\n",
      "        earliest_pub_year  \n",
      "27710                2006  \n",
      "317879               2023  \n",
      "182709               2018  \n",
      "4794                 2001  \n",
      "180548               2017  \n",
      "\n",
      "[5 rows x 50 columns]\n"
     ]
    }
   ],
   "source": [
    "def part(file_path):\n",
    "    data = pd.read_csv(file_path)\n",
    "    \n",
    "    # Display available columns\n",
    "    print(\"Columns in the dataset:\", data.columns)\n",
    "    \n",
    "    # Expected column name for references\n",
    "    expected_col = \"reference\"  \n",
    "    \n",
    "    # Validate the column name\n",
    "    if expected_col not in data.columns:\n",
    "        raise KeyError(f\"Column '{expected_col}' not found. Available columns: {list(data.columns)}\")\n",
    "    \n",
    "    # Proceed with sampling\n",
    "    sampled_data = data.sample(n=1000, random_state=42)\n",
    "    print(sampled_data.head())\n",
    "part(\"\\\\Users\\\\joshu\\\\Downloads\\\\UROP_Code\\\\Data\\\\climate_articles_unique_english.csv\")"
   ]
  },
  {
   "cell_type": "code",
   "execution_count": 70,
   "metadata": {},
   "outputs": [
    {
     "name": "stdout",
     "output_type": "stream",
     "text": [
      "Removed 914149 invalid nodes.\n"
     ]
    }
   ],
   "source": [
    "type = main(\"\\\\Users\\\\joshu\\\\Downloads\\\\UROP_Code\\\\Data\\\\climate_articles_unique_english.csv\")\n"
   ]
  },
  {
   "cell_type": "code",
   "execution_count": 71,
   "metadata": {},
   "outputs": [
    {
     "name": "stdout",
     "output_type": "stream",
     "text": [
      "                                                       DOI CD_Index\n",
      "0                         https://doi.org/10.1038/35023137     None\n",
      "1        [{'key': 'BF35023137_CR1', 'doi-asserted-by': ...     None\n",
      "2        2', 'volume': '80', 'author': 'GL Vourlitis', ...     None\n",
      "3        2', 'volume': '78', 'author': 'RB McKane', 'ye...     None\n",
      "4                         https://doi.org/10.1038/35015767     None\n",
      "...                                                    ...      ...\n",
      "1242159  [{'doi-asserted-by': 'publisher', 'key': 'e_1_...     None\n",
      "1242160       https://doi.org/10.1016/j.lanepe.2023.100701     None\n",
      "1242161  [{'key': '10.1016/j.lanepe.2023.100701_bib1', ...     None\n",
      "1242162  https://doi.org/10.24272/j.issn.2095-8137.2022...     None\n",
      "1242163                 https://doi.org/10.1503/cjs.014223     None\n",
      "\n",
      "[1242164 rows x 2 columns]\n"
     ]
    }
   ],
   "source": [
    "print(type)"
   ]
  },
  {
   "cell_type": "code",
   "execution_count": null,
   "metadata": {},
   "outputs": [],
   "source": [
    "\n",
    "type.to_csv(\"\\\\Users\\\\joshu\\\\Downloads\\\\UROP_Code\\\\Data\\\\cd_index.csv\", index=False) "
   ]
  }
 ],
 "metadata": {
  "kernelspec": {
   "display_name": "Python 3",
   "language": "python",
   "name": "python3"
  },
  "language_info": {
   "codemirror_mode": {
    "name": "ipython",
    "version": 3
   },
   "file_extension": ".py",
   "mimetype": "text/x-python",
   "name": "python",
   "nbconvert_exporter": "python",
   "pygments_lexer": "ipython3",
   "version": "3.11.9"
  }
 },
 "nbformat": 4,
 "nbformat_minor": 2
}
