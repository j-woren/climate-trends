{
 "cells": [
  {
   "cell_type": "code",
   "execution_count": 66,
   "metadata": {},
   "outputs": [],
   "source": [
    "import pandas as pd\n",
    "import re\n",
    "import itertools\n",
    "import sqlite3\n",
    "import json"
   ]
  },
  {
   "cell_type": "code",
   "execution_count": 21,
   "metadata": {},
   "outputs": [],
   "source": [
    "# Define import functions\n",
    "def import_and_clean(path):\n",
    "    file = pd.read_json(path)\n",
    "    data = pd.DataFrame(list(itertools.chain(*file['message'].apply(lambda x: x['items']))))\n",
    "    data['earliest_pub_year'] = data['published'].apply(lambda x: x['date-parts'][0][0])\n",
    "    data['cleaned_abstract'] = data['abstract'].apply(lambda x: re.sub(\"<.*?>|\\n|Abstract|abstract\", \"\", str(x)))\n",
    "    return data"
   ]
  },
  {
   "cell_type": "code",
   "execution_count": 22,
   "metadata": {},
   "outputs": [],
   "source": [
    "climate_articles_2013 = import_and_clean('/Users/trevor/Desktop/Research/climate-trends/climate_articles_2013.json')\n",
    "climate_articles_2014 = import_and_clean('/Users/trevor/Desktop/Research/climate-trends/climate_articles_2014.json')\n",
    "climate_articles_2015 = import_and_clean('/Users/trevor/Desktop/Research/climate-trends/climate_articles_2015.json')\n",
    "climate_articles_2016 = import_and_clean('/Users/trevor/Desktop/Research/climate-trends/climate_articles_2016.json')\n",
    "climate_articles_2017 = import_and_clean('/Users/trevor/Desktop/Research/climate-trends/climate_articles_2017.json')\n",
    "climate_articles_2018 = import_and_clean('/Users/trevor/Desktop/Research/climate-trends/climate_articles_2018.json')\n",
    "climate_articles_2019 = import_and_clean('/Users/trevor/Desktop/Research/climate-trends/climate_articles_2019.json')\n",
    "climate_articles_2020 = import_and_clean('/Users/trevor/Desktop/Research/climate-trends/climate_articles_2020.json')\n",
    "climate_articles_2021 = import_and_clean('/Users/trevor/Desktop/Research/climate-trends/climate_articles_2021.json')\n",
    "climate_articles_2022 = import_and_clean('/Users/trevor/Desktop/Research/climate-trends/climate_articles_2022.json')\n",
    "climate_articles_2023 = import_and_clean('/Users/trevor/Desktop/Research/climate-trends/climate_articles_2023.json')"
   ]
  },
  {
   "cell_type": "code",
   "execution_count": 23,
   "metadata": {},
   "outputs": [],
   "source": [
    "climate_articles = pd.concat([\n",
    "    climate_articles_2013,\n",
    "    climate_articles_2014,\n",
    "    climate_articles_2015,\n",
    "    climate_articles_2016,\n",
    "    climate_articles_2017,\n",
    "    climate_articles_2018,\n",
    "    climate_articles_2019,\n",
    "    climate_articles_2020,\n",
    "    climate_articles_2021,\n",
    "    climate_articles_2022,\n",
    "    climate_articles_2023\n",
    "])"
   ]
  },
  {
   "cell_type": "code",
   "execution_count": null,
   "metadata": {},
   "outputs": [
    {
     "data": {
      "text/plain": [
       "(284231, 56)"
      ]
     },
     "execution_count": 25,
     "metadata": {},
     "output_type": "execute_result"
    }
   ],
   "source": [
    "climate_articles.shape\n",
    "# 284,231 articles extracted- still need to clean/ check for potential DOI duplicates"
   ]
  },
  {
   "cell_type": "code",
   "execution_count": 53,
   "metadata": {},
   "outputs": [],
   "source": [
    "climate_articles_unique = climate_articles.drop_duplicates(subset = 'DOI', keep ='first')"
   ]
  },
  {
   "cell_type": "code",
   "execution_count": 54,
   "metadata": {},
   "outputs": [
    {
     "data": {
      "text/plain": [
       "(284231, 56)"
      ]
     },
     "execution_count": 54,
     "metadata": {},
     "output_type": "execute_result"
    }
   ],
   "source": [
    "climate_articles_unique.shape\n",
    "# all were unique DOI\n",
    "# 284,231"
   ]
  },
  {
   "cell_type": "code",
   "execution_count": 55,
   "metadata": {},
   "outputs": [
    {
     "data": {
      "text/plain": [
       "(224958, 56)"
      ]
     },
     "execution_count": 55,
     "metadata": {},
     "output_type": "execute_result"
    }
   ],
   "source": [
    "climate_articles_unique_english = climate_articles_unique[climate_articles_unique['language'] == 'en']\n",
    "climate_articles_unique_english.shape\n",
    "# 224,958 articles published in English, but note some may be missing abstracts at this point"
   ]
  },
  {
   "cell_type": "code",
   "execution_count": 61,
   "metadata": {},
   "outputs": [],
   "source": [
    "final_df = climate_articles_unique_english.reset_index(drop = True)"
   ]
  },
  {
   "cell_type": "code",
   "execution_count": 62,
   "metadata": {},
   "outputs": [],
   "source": [
    "final_df.to_json('climate_articles_unique_english.json')"
   ]
  },
  {
   "cell_type": "code",
   "execution_count": 72,
   "metadata": {},
   "outputs": [],
   "source": [
    "for column in final_df.columns:\n",
    "    if final_df[column].apply(lambda x: isinstance(x, (dict, list))).any():\n",
    "        final_df[column] = final_df[column].apply(json.dumps)"
   ]
  },
  {
   "cell_type": "code",
   "execution_count": 73,
   "metadata": {},
   "outputs": [
    {
     "data": {
      "text/html": [
       "<div>\n",
       "<style scoped>\n",
       "    .dataframe tbody tr th:only-of-type {\n",
       "        vertical-align: middle;\n",
       "    }\n",
       "\n",
       "    .dataframe tbody tr th {\n",
       "        vertical-align: top;\n",
       "    }\n",
       "\n",
       "    .dataframe thead th {\n",
       "        text-align: right;\n",
       "    }\n",
       "</style>\n",
       "<table border=\"1\" class=\"dataframe\">\n",
       "  <thead>\n",
       "    <tr style=\"text-align: right;\">\n",
       "      <th></th>\n",
       "      <th>indexed</th>\n",
       "      <th>reference-count</th>\n",
       "      <th>publisher</th>\n",
       "      <th>issue</th>\n",
       "      <th>license</th>\n",
       "      <th>content-domain</th>\n",
       "      <th>short-container-title</th>\n",
       "      <th>published-print</th>\n",
       "      <th>DOI</th>\n",
       "      <th>type</th>\n",
       "      <th>...</th>\n",
       "      <th>funder</th>\n",
       "      <th>issue-title</th>\n",
       "      <th>article-number</th>\n",
       "      <th>updated-by</th>\n",
       "      <th>accepted</th>\n",
       "      <th>earliest_pub_year</th>\n",
       "      <th>cleaned_abstract</th>\n",
       "      <th>chair</th>\n",
       "      <th>translator</th>\n",
       "      <th>clinical-trial-number</th>\n",
       "    </tr>\n",
       "  </thead>\n",
       "  <tbody>\n",
       "    <tr>\n",
       "      <th>0</th>\n",
       "      <td>{\"date-parts\": [[2024, 8, 22]], \"date-time\": \"...</td>\n",
       "      <td>29</td>\n",
       "      <td>Springer Science and Business Media LLC</td>\n",
       "      <td>1</td>\n",
       "      <td>[{\"start\": {\"date-parts\": [[2013, 11, 24]], \"d...</td>\n",
       "      <td>{\"domain\": [], \"crossmark-restriction\": false}</td>\n",
       "      <td>[\"Nature Clim Change\"]</td>\n",
       "      <td>{\"date-parts\": [[2014, 1]]}</td>\n",
       "      <td>10.1038/nclimate2060</td>\n",
       "      <td>journal-article</td>\n",
       "      <td>...</td>\n",
       "      <td>NaN</td>\n",
       "      <td>NaN</td>\n",
       "      <td>NaN</td>\n",
       "      <td>NaN</td>\n",
       "      <td>NaN</td>\n",
       "      <td>2013</td>\n",
       "      <td>nan</td>\n",
       "      <td>NaN</td>\n",
       "      <td>NaN</td>\n",
       "      <td>NaN</td>\n",
       "    </tr>\n",
       "    <tr>\n",
       "      <th>1</th>\n",
       "      <td>{\"date-parts\": [[2024, 9, 10]], \"date-time\": \"...</td>\n",
       "      <td>28</td>\n",
       "      <td>American Meteorological Society</td>\n",
       "      <td>18</td>\n",
       "      <td>NaN</td>\n",
       "      <td>{\"domain\": [], \"crossmark-restriction\": false}</td>\n",
       "      <td>NaN</td>\n",
       "      <td>{\"date-parts\": [[2013, 9, 15]]}</td>\n",
       "      <td>10.1175/jcli-d-12-00476.1</td>\n",
       "      <td>journal-article</td>\n",
       "      <td>...</td>\n",
       "      <td>NaN</td>\n",
       "      <td>NaN</td>\n",
       "      <td>NaN</td>\n",
       "      <td>NaN</td>\n",
       "      <td>NaN</td>\n",
       "      <td>2013</td>\n",
       "      <td>The ratio of warming to cumulat...</td>\n",
       "      <td>NaN</td>\n",
       "      <td>NaN</td>\n",
       "      <td>NaN</td>\n",
       "    </tr>\n",
       "    <tr>\n",
       "      <th>2</th>\n",
       "      <td>{\"date-parts\": [[2024, 6, 15]], \"date-time\": \"...</td>\n",
       "      <td>18</td>\n",
       "      <td>MDPI AG</td>\n",
       "      <td>1</td>\n",
       "      <td>[{\"start\": {\"date-parts\": [[2013, 5, 3]], \"dat...</td>\n",
       "      <td>{\"domain\": [], \"crossmark-restriction\": false}</td>\n",
       "      <td>[\"Climate\"]</td>\n",
       "      <td>NaN</td>\n",
       "      <td>10.3390/cli1010004</td>\n",
       "      <td>journal-article</td>\n",
       "      <td>...</td>\n",
       "      <td>NaN</td>\n",
       "      <td>NaN</td>\n",
       "      <td>NaN</td>\n",
       "      <td>NaN</td>\n",
       "      <td>NaN</td>\n",
       "      <td>2013</td>\n",
       "      <td>The rise in global average temperature over th...</td>\n",
       "      <td>NaN</td>\n",
       "      <td>NaN</td>\n",
       "      <td>NaN</td>\n",
       "    </tr>\n",
       "    <tr>\n",
       "      <th>3</th>\n",
       "      <td>{\"date-parts\": [[2023, 5, 19]], \"date-time\": \"...</td>\n",
       "      <td>5</td>\n",
       "      <td>Springer Science and Business Media LLC</td>\n",
       "      <td>NaN</td>\n",
       "      <td>[{\"start\": {\"date-parts\": [[2013, 8, 1]], \"dat...</td>\n",
       "      <td>{\"domain\": [], \"crossmark-restriction\": false}</td>\n",
       "      <td>[\"Nature\"]</td>\n",
       "      <td>NaN</td>\n",
       "      <td>10.1038/nature.2013.13464</td>\n",
       "      <td>journal-article</td>\n",
       "      <td>...</td>\n",
       "      <td>NaN</td>\n",
       "      <td>NaN</td>\n",
       "      <td>NaN</td>\n",
       "      <td>NaN</td>\n",
       "      <td>NaN</td>\n",
       "      <td>2013</td>\n",
       "      <td>nan</td>\n",
       "      <td>NaN</td>\n",
       "      <td>NaN</td>\n",
       "      <td>NaN</td>\n",
       "    </tr>\n",
       "    <tr>\n",
       "      <th>4</th>\n",
       "      <td>{\"date-parts\": [[2024, 9, 15]], \"date-time\": \"...</td>\n",
       "      <td>72</td>\n",
       "      <td>Wiley</td>\n",
       "      <td>3</td>\n",
       "      <td>[{\"start\": {\"date-parts\": [[2013, 3, 18]], \"da...</td>\n",
       "      <td>{\"domain\": [], \"crossmark-restriction\": false}</td>\n",
       "      <td>[\"WIREs Climate Change\"]</td>\n",
       "      <td>{\"date-parts\": [[2013, 5]]}</td>\n",
       "      <td>10.1002/wcc.211</td>\n",
       "      <td>journal-article</td>\n",
       "      <td>...</td>\n",
       "      <td>NaN</td>\n",
       "      <td>NaN</td>\n",
       "      <td>NaN</td>\n",
       "      <td>NaN</td>\n",
       "      <td>NaN</td>\n",
       "      <td>2013</td>\n",
       "      <td>In temperate climates, mortality is higher in ...</td>\n",
       "      <td>NaN</td>\n",
       "      <td>NaN</td>\n",
       "      <td>NaN</td>\n",
       "    </tr>\n",
       "  </tbody>\n",
       "</table>\n",
       "<p>5 rows × 56 columns</p>\n",
       "</div>"
      ],
      "text/plain": [
       "                                             indexed  reference-count  \\\n",
       "0  {\"date-parts\": [[2024, 8, 22]], \"date-time\": \"...               29   \n",
       "1  {\"date-parts\": [[2024, 9, 10]], \"date-time\": \"...               28   \n",
       "2  {\"date-parts\": [[2024, 6, 15]], \"date-time\": \"...               18   \n",
       "3  {\"date-parts\": [[2023, 5, 19]], \"date-time\": \"...                5   \n",
       "4  {\"date-parts\": [[2024, 9, 15]], \"date-time\": \"...               72   \n",
       "\n",
       "                                 publisher issue  \\\n",
       "0  Springer Science and Business Media LLC     1   \n",
       "1          American Meteorological Society    18   \n",
       "2                                  MDPI AG     1   \n",
       "3  Springer Science and Business Media LLC   NaN   \n",
       "4                                    Wiley     3   \n",
       "\n",
       "                                             license  \\\n",
       "0  [{\"start\": {\"date-parts\": [[2013, 11, 24]], \"d...   \n",
       "1                                                NaN   \n",
       "2  [{\"start\": {\"date-parts\": [[2013, 5, 3]], \"dat...   \n",
       "3  [{\"start\": {\"date-parts\": [[2013, 8, 1]], \"dat...   \n",
       "4  [{\"start\": {\"date-parts\": [[2013, 3, 18]], \"da...   \n",
       "\n",
       "                                   content-domain     short-container-title  \\\n",
       "0  {\"domain\": [], \"crossmark-restriction\": false}    [\"Nature Clim Change\"]   \n",
       "1  {\"domain\": [], \"crossmark-restriction\": false}                       NaN   \n",
       "2  {\"domain\": [], \"crossmark-restriction\": false}               [\"Climate\"]   \n",
       "3  {\"domain\": [], \"crossmark-restriction\": false}                [\"Nature\"]   \n",
       "4  {\"domain\": [], \"crossmark-restriction\": false}  [\"WIREs Climate Change\"]   \n",
       "\n",
       "                   published-print                        DOI  \\\n",
       "0      {\"date-parts\": [[2014, 1]]}       10.1038/nclimate2060   \n",
       "1  {\"date-parts\": [[2013, 9, 15]]}  10.1175/jcli-d-12-00476.1   \n",
       "2                              NaN         10.3390/cli1010004   \n",
       "3                              NaN  10.1038/nature.2013.13464   \n",
       "4      {\"date-parts\": [[2013, 5]]}            10.1002/wcc.211   \n",
       "\n",
       "              type  ... funder issue-title article-number  updated-by  \\\n",
       "0  journal-article  ...    NaN         NaN            NaN         NaN   \n",
       "1  journal-article  ...    NaN         NaN            NaN         NaN   \n",
       "2  journal-article  ...    NaN         NaN            NaN         NaN   \n",
       "3  journal-article  ...    NaN         NaN            NaN         NaN   \n",
       "4  journal-article  ...    NaN         NaN            NaN         NaN   \n",
       "\n",
       "  accepted earliest_pub_year  \\\n",
       "0      NaN              2013   \n",
       "1      NaN              2013   \n",
       "2      NaN              2013   \n",
       "3      NaN              2013   \n",
       "4      NaN              2013   \n",
       "\n",
       "                                    cleaned_abstract chair translator  \\\n",
       "0                                                nan   NaN        NaN   \n",
       "1                 The ratio of warming to cumulat...   NaN        NaN   \n",
       "2  The rise in global average temperature over th...   NaN        NaN   \n",
       "3                                                nan   NaN        NaN   \n",
       "4  In temperate climates, mortality is higher in ...   NaN        NaN   \n",
       "\n",
       "  clinical-trial-number  \n",
       "0                   NaN  \n",
       "1                   NaN  \n",
       "2                   NaN  \n",
       "3                   NaN  \n",
       "4                   NaN  \n",
       "\n",
       "[5 rows x 56 columns]"
      ]
     },
     "execution_count": 73,
     "metadata": {},
     "output_type": "execute_result"
    }
   ],
   "source": [
    "final_df.head()"
   ]
  },
  {
   "cell_type": "code",
   "execution_count": 74,
   "metadata": {},
   "outputs": [],
   "source": [
    "conn = sqlite3.connect(\"climate_articles_unique_english.db\")\n",
    "final_df.to_sql(\"unique_english\", conn, if_exists=\"replace\", index=False)\n",
    "conn.close()"
   ]
  }
 ],
 "metadata": {
  "kernelspec": {
   "display_name": "Python 3",
   "language": "python",
   "name": "python3"
  },
  "language_info": {
   "codemirror_mode": {
    "name": "ipython",
    "version": 3
   },
   "file_extension": ".py",
   "mimetype": "text/x-python",
   "name": "python",
   "nbconvert_exporter": "python",
   "pygments_lexer": "ipython3",
   "version": "3.12.2"
  }
 },
 "nbformat": 4,
 "nbformat_minor": 2
}
