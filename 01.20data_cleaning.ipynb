{
 "cells": [
  {
   "cell_type": "code",
   "execution_count": 20,
   "metadata": {},
   "outputs": [],
   "source": [
    "import pandas as pd\n",
    "import re\n",
    "import itertools"
   ]
  },
  {
   "cell_type": "code",
   "execution_count": 21,
   "metadata": {},
   "outputs": [],
   "source": [
    "# Define import functions\n",
    "def import_and_clean(path):\n",
    "    file = pd.read_json(path)\n",
    "    data = pd.DataFrame(list(itertools.chain(*file['message'].apply(lambda x: x['items']))))\n",
    "    data['earliest_pub_year'] = data['published'].apply(lambda x: x['date-parts'][0][0])\n",
    "    data['cleaned_abstract'] = data['abstract'].apply(lambda x: re.sub(\"<.*?>|\\n|Abstract|abstract\", \"\", str(x)))\n",
    "    return data"
   ]
  },
  {
   "cell_type": "code",
   "execution_count": 22,
   "metadata": {},
   "outputs": [],
   "source": [
    "climate_articles_2013 = import_and_clean('/Users/trevor/Desktop/Research/climate-trends/climate_articles_2013.json')\n",
    "climate_articles_2014 = import_and_clean('/Users/trevor/Desktop/Research/climate-trends/climate_articles_2014.json')\n",
    "climate_articles_2015 = import_and_clean('/Users/trevor/Desktop/Research/climate-trends/climate_articles_2015.json')\n",
    "climate_articles_2016 = import_and_clean('/Users/trevor/Desktop/Research/climate-trends/climate_articles_2016.json')\n",
    "climate_articles_2017 = import_and_clean('/Users/trevor/Desktop/Research/climate-trends/climate_articles_2017.json')\n",
    "climate_articles_2018 = import_and_clean('/Users/trevor/Desktop/Research/climate-trends/climate_articles_2018.json')\n",
    "climate_articles_2019 = import_and_clean('/Users/trevor/Desktop/Research/climate-trends/climate_articles_2019.json')\n",
    "climate_articles_2020 = import_and_clean('/Users/trevor/Desktop/Research/climate-trends/climate_articles_2020.json')\n",
    "climate_articles_2021 = import_and_clean('/Users/trevor/Desktop/Research/climate-trends/climate_articles_2021.json')\n",
    "climate_articles_2022 = import_and_clean('/Users/trevor/Desktop/Research/climate-trends/climate_articles_2022.json')\n",
    "climate_articles_2023 = import_and_clean('/Users/trevor/Desktop/Research/climate-trends/climate_articles_2023.json')"
   ]
  },
  {
   "cell_type": "code",
   "execution_count": 23,
   "metadata": {},
   "outputs": [],
   "source": [
    "climate_articles = pd.concat([\n",
    "    climate_articles_2013,\n",
    "    climate_articles_2014,\n",
    "    climate_articles_2015,\n",
    "    climate_articles_2016,\n",
    "    climate_articles_2017,\n",
    "    climate_articles_2018,\n",
    "    climate_articles_2019,\n",
    "    climate_articles_2020,\n",
    "    climate_articles_2021,\n",
    "    climate_articles_2022,\n",
    "    climate_articles_2023\n",
    "])"
   ]
  },
  {
   "cell_type": "code",
   "execution_count": 24,
   "metadata": {},
   "outputs": [
    {
     "data": {
      "text/plain": [
       "(284231, 56)"
      ]
     },
     "execution_count": 24,
     "metadata": {},
     "output_type": "execute_result"
    }
   ],
   "source": [
    "climate_articles.shape\n",
    "# 284,231 articles extracted- still need to clean/ check for potential DOI duplicates"
   ]
  }
 ],
 "metadata": {
  "kernelspec": {
   "display_name": "Python 3",
   "language": "python",
   "name": "python3"
  },
  "language_info": {
   "codemirror_mode": {
    "name": "ipython",
    "version": 3
   },
   "file_extension": ".py",
   "mimetype": "text/x-python",
   "name": "python",
   "nbconvert_exporter": "python",
   "pygments_lexer": "ipython3",
   "version": "3.12.2"
  }
 },
 "nbformat": 4,
 "nbformat_minor": 2
}
