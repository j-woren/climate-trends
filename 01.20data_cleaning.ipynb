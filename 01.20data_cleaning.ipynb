{
 "cells": [
  {
   "cell_type": "code",
   "execution_count": 8,
   "metadata": {},
   "outputs": [],
   "source": [
    "import pandas as pd\n",
    "import re\n",
    "import itertools\n",
    "import sqlite3\n",
    "import json\n",
    "import os"
   ]
  },
  {
   "cell_type": "code",
   "execution_count": 58,
   "metadata": {},
   "outputs": [],
   "source": [
    "years = range(2000, 2024)\n",
    "filenames = [f'/Users/trevor/Desktop/Research/climate-trends/climate_articles_{year}.json' for year in years]"
   ]
  },
  {
   "cell_type": "code",
   "execution_count": 59,
   "metadata": {},
   "outputs": [
    {
     "name": "stdout",
     "output_type": "stream",
     "text": [
      "['created', 'license', 'publisher', 'published-online', 'author', 'page', 'indexed', 'special_numbering', 'assertion', 'editor', 'relation', 'score', 'issued', 'volume', 'source', 'update-policy', 'updated-by', 'deposited', 'archive', 'is-referenced-by-count', 'alternative-id', 'prefix', 'DOI', 'language', 'abstract', 'resource', 'member', 'issue', 'link', 'ISSN', 'content-domain', 'published-print', 'type', 'short-container-title', 'journal-issue', 'references-count', 'subtitle', 'published-other', 'original-title', 'reference-count', 'published', 'title', 'container-title', 'reference', 'funder', 'issn-type', 'article-number', 'URL']\n"
     ]
    }
   ],
   "source": [
    "common_fields = None  \n",
    "for i, file in enumerate(filenames):\n",
    "    file = pd.read_json(file)\n",
    "    colnames = list(pd.DataFrame(list(itertools.chain(*file['message'].apply(lambda x: x['items'])))).columns)\n",
    "    \n",
    "    if common_fields is None:  \n",
    "        common_fields = set(colnames)\n",
    "    else: \n",
    "        common_fields = common_fields.intersection(set(colnames))\n",
    "\n",
    "common_fields = list(common_fields)\n",
    "print(common_fields)\n"
   ]
  },
  {
   "cell_type": "code",
   "execution_count": 60,
   "metadata": {},
   "outputs": [],
   "source": [
    "# Define import functions\n",
    "def import_and_clean(path):\n",
    "    file = pd.read_json(path)\n",
    "    data = pd.DataFrame(list(itertools.chain(*file['message'].apply(lambda x: x['items']))))\n",
    "    data['earliest_pub_year'] = data['published'].apply(lambda x: x['date-parts'][0][0])\n",
    "    # Remove common junk words\n",
    "    data['cleaned_abstract'] = data['abstract'].apply(lambda x: re.sub(\"<.*?>|\\n|Abstract|abstract\", \"\", str(x)))\n",
    "    # Keep unique DOI's\n",
    "    data.drop_duplicates(subset = 'DOI', keep ='first', inplace = True)\n",
    "    # Subset to only English language articles\n",
    "    data = data[data['language'] == 'en']\n",
    "    # Subset to common columns\n",
    "    data = data[common_fields +['cleaned_abstract', 'earliest_pub_year']]\n",
    "    return data"
   ]
  },
  {
   "cell_type": "code",
   "execution_count": 61,
   "metadata": {},
   "outputs": [],
   "source": [
    "def create_full_dataset():\n",
    "    output_file = 'climate_articles_unique_english.csv'\n",
    "    if os.path.exists(output_file):\n",
    "        raise FileExistsError(\"The file {output_file} already exists. Ensure that additional information should not be written.\")\n",
    "    else:\n",
    "        for i, filename in enumerate(filenames):\n",
    "            file = import_and_clean(filename)\n",
    "            if i == 0:\n",
    "                file.to_csv(output_file, index = False, mode = 'w')\n",
    "            else:\n",
    "                file.to_csv(output_file, index = False, mode = 'a', header = False)"
   ]
  },
  {
   "cell_type": "code",
   "execution_count": 62,
   "metadata": {},
   "outputs": [],
   "source": [
    "create_full_dataset()"
   ]
  },
  {
   "cell_type": "code",
   "execution_count": 63,
   "metadata": {},
   "outputs": [
    {
     "name": "stderr",
     "output_type": "stream",
     "text": [
      "/var/folders/1g/6pgh6bw14hgcbgppl7q0jgfr0000gn/T/ipykernel_1055/1484711313.py:1: DtypeWarning: Columns (13) have mixed types. Specify dtype option on import or set low_memory=False.\n",
      "  full = pd.read_csv('climate_articles_unique_english.csv', on_bad_lines= 'warn')\n"
     ]
    }
   ],
   "source": [
    "\n",
    "full = pd.read_csv('climate_articles_unique_english.csv', on_bad_lines= 'warn')"
   ]
  },
  {
   "cell_type": "code",
   "execution_count": 64,
   "metadata": {},
   "outputs": [
    {
     "data": {
      "text/plain": [
       "(328015, 50)"
      ]
     },
     "execution_count": 64,
     "metadata": {},
     "output_type": "execute_result"
    }
   ],
   "source": [
    "full.shape"
   ]
  },
  {
   "cell_type": "code",
   "execution_count": 65,
   "metadata": {},
   "outputs": [],
   "source": [
    "full_abs = full[full['abstract'].str.len() > 0]"
   ]
  },
  {
   "cell_type": "code",
   "execution_count": 66,
   "metadata": {},
   "outputs": [
    {
     "data": {
      "text/plain": [
       "(91197, 50)"
      ]
     },
     "execution_count": 66,
     "metadata": {},
     "output_type": "execute_result"
    }
   ],
   "source": [
    "full_abs.shape"
   ]
  },
  {
   "cell_type": "code",
   "execution_count": 67,
   "metadata": {},
   "outputs": [],
   "source": [
    "full_abs.to_csv('unique_english_abstract_not_null.csv')"
   ]
  }
 ],
 "metadata": {
  "kernelspec": {
   "display_name": "Python 3",
   "language": "python",
   "name": "python3"
  },
  "language_info": {
   "codemirror_mode": {
    "name": "ipython",
    "version": 3
   },
   "file_extension": ".py",
   "mimetype": "text/x-python",
   "name": "python",
   "nbconvert_exporter": "python",
   "pygments_lexer": "ipython3",
   "version": "3.12.2"
  }
 },
 "nbformat": 4,
 "nbformat_minor": 2
}
